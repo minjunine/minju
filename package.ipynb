{
 "cells": [
  {
   "cell_type": "markdown",
   "metadata": {},
   "source": [
    "외장 패키지 (라이브러리)\n",
    "외장 패키지를 설치를 하기위해서는 pip로 패키지를 설치해야함\n",
    "\n",
    "pip install 패키지명\n",
    "pip install scikit-learn\n",
    "설치한 패키지를 해당 파일에서 사용하고자 한다면 먼저 임포트가 필요\n",
    "\n",
    "import 패키지명\n",
    "import 패키지명 as 별명"
   ]
  }
 ],
 "metadata": {
  "kernelspec": {
   "display_name": "Python 3",
   "language": "python",
   "name": "python3"
  },
  "language_info": {
   "codemirror_mode": {
    "name": "ipython",
    "version": 3
   },
   "file_extension": ".py",
   "mimetype": "text/x-python",
   "name": "python",
   "nbconvert_exporter": "python",
   "pygments_lexer": "ipython3",
   "version": "3.12.4"
  }
 },
 "nbformat": 4,
 "nbformat_minor": 2
}
