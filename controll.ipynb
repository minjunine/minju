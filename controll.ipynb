{
 "cells": [
  {
   "cell_type": "markdown",
   "metadata": {},
   "source": [
    "### 조건문\n",
    "##### if 문\n",
    "'''python\n",
    "if 조건 논리표현식: \n",
    "    조건이 참일때 실행할 구분\n",
    "'''"
   ]
  },
  {
   "cell_type": "code",
   "execution_count": null,
   "metadata": {},
   "outputs": [],
   "source": [
    "number = 1234"
   ]
  },
  {
   "cell_type": "code",
   "execution_count": null,
   "metadata": {},
   "outputs": [],
   "source": [
    "if (number % 2 == 0):\n",
    "    print('짝수')\n",
    "    # 같은 코드 영역으로 지정하고자 한다면 들여쓰기를 모두 동일하게 지정\n",
    "    print('종료')\n"
   ]
  },
  {
   "cell_type": "markdown",
   "metadata": {},
   "source": [
    "##### else 문\n",
    "'''python\n",
    "if 조건 논리 표현식:\n",
    "    조건이 참일때 실행할 구문\n",
    "else:\n",
    "    조건이 거짓일때 실행할 구문\n",
    "'''"
   ]
  },
  {
   "cell_type": "code",
   "execution_count": null,
   "metadata": {},
   "outputs": [],
   "source": [
    "if (number % 2 == 0):\n",
    "    print('짝수')\n",
    "# else를 작성할 때는 들여쓰기를 if문의 들여쓰기와 일치해야함\n",
    "else:\n",
    "    print('홀수') "
   ]
  },
  {
   "cell_type": "markdown",
   "metadata": {},
   "source": [
    "if (number % 3 == 0):\n",
    "    print('3의 배수입니다.')\n",
    "else:\n",
    "    if (number % 2 == 0):\n",
    "        print('2의 배수입니다.')\n",
    "    else:\n",
    "        print('2의 배수나 3의 배수가 아닙니다.')"
   ]
  },
  {
   "cell_type": "markdown",
   "metadata": {},
   "source": [
    "##### elif 구문\n",
    "'''python\n",
    "if 첫번째 조건 논리 표현식:\n",
    "    첫번째 조건이 참일 때 실행할 구문\n",
    "elif 두번째 조건 논리 표현식:\n",
    "    두번째 조건이 참일 때 실행할 구문\n",
    "else:\n",
    "    위의 모든 조건이 거짓일 때 실행함\n",
    "    '''"
   ]
  },
  {
   "cell_type": "code",
   "execution_count": null,
   "metadata": {},
   "outputs": [],
   "source": [
    "if (number % 3 ==0):\n",
    "    print('3의 배수입니다.')\n",
    "elif (number %2 ==0):\n",
    "    print('2의 배수입니다.')\n",
    "else:\n",
    "    print('2의 배수 혹은 3의 배수가 아닙니다.')"
   ]
  },
  {
   "cell_type": "markdown",
   "metadata": {},
   "source": [
    "#### 죄수의 딜레마\n",
    "용의자 두명(A,B)이 체포됨,\n",
    "심문 중 자백 및 침묵을 권유받음\n",
    "1. 둘 중 하나만 자백을 하게되면 자백한 사람은 죽시 풀려나고 침묵한 사람은 10년형\n",
    "2. 둘 다 자백을 하면 모두 5년형\n",
    "3. 둘 다 침묵을 하면 모두 1년형\n",
    "이때 죄수의 선택을 나타내는 변수 XA, XB와 죄수의 형년을 복역 연수를 나타내는 변수 YA, YB라 할때\n",
    "XA와 XB를 입력을 받고 YA와 YB를 'A의 복역 연수: 10, B의 복역 연수: 0' 형태로 출력하시오."
   ]
  },
  {
   "cell_type": "code",
   "execution_count": 4,
   "metadata": {},
   "outputs": [
    {
     "ename": "NameError",
     "evalue": "name 'f' is not defined",
     "output_type": "error",
     "traceback": [
      "\u001b[1;31m---------------------------------------------------------------------------\u001b[0m",
      "\u001b[1;31mNameError\u001b[0m                                 Traceback (most recent call last)",
      "Cell \u001b[1;32mIn[4], line 17\u001b[0m\n\u001b[0;32m     15\u001b[0m     YA \u001b[38;5;241m=\u001b[39m \u001b[38;5;241m1\u001b[39m\n\u001b[0;32m     16\u001b[0m     YB \u001b[38;5;241m=\u001b[39m \u001b[38;5;241m1\u001b[39m\n\u001b[1;32m---> 17\u001b[0m \u001b[38;5;28mprint\u001b[39m (\u001b[43mf\u001b[49m)\n",
      "\u001b[1;31mNameError\u001b[0m: name 'f' is not defined"
     ]
    }
   ],
   "source": [
    "XA = bool(input('A의 선택은?'))\n",
    "XB = bool(input('B의 선택은?'))\n",
    "\n",
    "(YA, YB) = (0, 0) \n",
    "if (XA and XB):\n",
    "    YA = 5\n",
    "    YB = 5\n",
    "elif (XA and not XB):\n",
    "    YA = 0\n",
    "    YB = 10\n",
    "elif (not XA and XB):\n",
    "    YA = 10\n",
    "    YB = 0\n",
    "else:\n",
    "    YA = 1\n",
    "    YB = 1\n"
   ]
  },
  {
   "cell_type": "code",
   "execution_count": null,
   "metadata": {},
   "outputs": [],
   "source": []
  }
 ],
 "metadata": {
  "kernelspec": {
   "display_name": "Python 3",
   "language": "python",
   "name": "python3"
  },
  "language_info": {
   "codemirror_mode": {
    "name": "ipython",
    "version": 3
   },
   "file_extension": ".py",
   "mimetype": "text/x-python",
   "name": "python",
   "nbconvert_exporter": "python",
   "pygments_lexer": "ipython3",
   "version": "3.12.4"
  }
 },
 "nbformat": 4,
 "nbformat_minor": 2
}
